{
  "nbformat": 4,
  "nbformat_minor": 0,
  "metadata": {
    "colab": {
      "provenance": []
    },
    "kernelspec": {
      "name": "python3",
      "display_name": "Python 3"
    },
    "language_info": {
      "name": "python"
    }
  },
  "cells": [
    {
      "cell_type": "code",
      "source": [
        "import tensorflow as tf"
      ],
      "metadata": {
        "id": "InxahTPr3f_Z"
      },
      "execution_count": 1,
      "outputs": []
    },
    {
      "cell_type": "code",
      "execution_count": 2,
      "metadata": {
        "id": "ReOvBNDSdlee"
      },
      "outputs": [],
      "source": [
        "# MNIST dataset of handwritten digits\n",
        "from keras.datasets import mnist\n",
        "\n",
        "# Model\n",
        "from keras.models import Sequential\n",
        "from keras.layers import Dense, Conv2D, Flatten, MaxPooling2D, Dropout\n",
        "from keras.optimizers import RMSprop\n",
        "\n",
        "# Preprocessing\n",
        "from keras.utils import to_categorical\n",
        "\n",
        "# Visualization\n",
        "%matplotlib inline\n",
        "import matplotlib.pyplot as plt"
      ]
    },
    {
      "cell_type": "code",
      "source": [
        "(X_train, y_train), (X_test, y_test) = mnist.load_data()\n",
        "X_train.shape, X_test.shape"
      ],
      "metadata": {
        "colab": {
          "base_uri": "https://localhost:8080/"
        },
        "id": "L-tq5dwwdy0K",
        "outputId": "92e78fbc-e761-4990-cad4-049b9f4113f9"
      },
      "execution_count": 3,
      "outputs": [
        {
          "output_type": "stream",
          "name": "stdout",
          "text": [
            "Downloading data from https://storage.googleapis.com/tensorflow/tf-keras-datasets/mnist.npz\n",
            "11490434/11490434 [==============================] - 0s 0us/step\n"
          ]
        },
        {
          "output_type": "execute_result",
          "data": {
            "text/plain": [
              "((60000, 28, 28), (10000, 28, 28))"
            ]
          },
          "metadata": {},
          "execution_count": 3
        }
      ]
    },
    {
      "cell_type": "code",
      "source": [
        "fig, axes = plt.subplots(nrows=3, ncols=3, figsize=(20, 10))\n",
        "axes = axes.flat\n",
        "\n",
        "for i in range(9):\n",
        "    axes[i].imshow(X_train[i])\n",
        "    axes[i].axis('off')"
      ],
      "metadata": {
        "colab": {
          "base_uri": "https://localhost:8080/",
          "height": 575
        },
        "id": "6I5PvcV6d3fk",
        "outputId": "2e7f0ae8-8276-4d34-b9d9-31bfe065b113"
      },
      "execution_count": 4,
      "outputs": [
        {
          "output_type": "display_data",
          "data": {
            "text/plain": [
              "<Figure size 1440x720 with 9 Axes>"
            ],
            "image/png": "[encoded data removed]"
          },
          "metadata": {
            "needs_background": "light"
          }
        }
      ]
    },
    {
      "cell_type": "code",
      "source": [
        "X_train = X_train.reshape((60000,28, 28, 1)).astype('float32') / 255\n",
        "X_test = X_test.reshape((10000, 28, 28, 1)).astype('float32') / 255\n",
        "\n",
        "y_train = to_categorical(y_train, 10)\n",
        "y_test = to_categorical(y_test, 10)"
      ],
      "metadata": {
        "id": "qfA3abxeeA3O"
      },
      "execution_count": 5,
      "outputs": []
    },
    {
      "cell_type": "code",
      "source": [
        "def get_model():\n",
        "    model = Sequential()\n",
        "    \n",
        "    model.add(Conv2D(64, \n",
        "                     kernel_size=(3, 3), \n",
        "                     activation='relu', \n",
        "                     input_shape=(28, 28, 1)))\n",
        "    \n",
        "    model.add(Conv2D(128, \n",
        "                     (3,3), \n",
        "                     activation='relu'))\n",
        "    \n",
        "    model.add(MaxPooling2D(pool_size=(2, 2)))\n",
        "    model.add(Dropout(0.2))\n",
        "    model.add(Flatten())\n",
        "    \n",
        "    model.add(Dense(1024, \n",
        "                    activation='relu'))\n",
        "    \n",
        "    model.add(Dropout(0.2))\n",
        "\n",
        "    model.add(Dense(1024, \n",
        "                    activation='relu'))\n",
        "    \n",
        "    model.add(Dropout(0.2))\n",
        "    \n",
        "    model.add(Dense(10, \n",
        "                    activation='softmax'))\n",
        "    \n",
        "    model.compile(optimizer=RMSprop(lr=0.01),\n",
        "                  loss='categorical_crossentropy',\n",
        "                  metrics=['accuracy'])\n",
        "    \n",
        "    return model"
      ],
      "metadata": {
        "id": "3SRXKH8neEtX"
      },
      "execution_count": 6,
      "outputs": []
    },
    {
      "cell_type": "code",
      "source": [
        "model = get_model()\n",
        "\n",
        "model.summary()"
      ],
      "metadata": {
        "colab": {
          "base_uri": "https://localhost:8080/"
        },
        "id": "JRwoZHYFeIEV",
        "outputId": "f5862e5b-fb06-4a10-b1ca-30bdec53711e"
      },
      "execution_count": 7,
      "outputs": [
        {
          "output_type": "stream",
          "name": "stdout",
          "text": [
            "Model: \"sequential\"\n",
            "_________________________________________________________________\n",
            " Layer (type)                Output Shape              Param #   \n",
            "=================================================================\n",
            " conv2d (Conv2D)             (None, 26, 26, 64)        640       \n",
            "                                                                 \n",
            " conv2d_1 (Conv2D)           (None, 24, 24, 128)       73856     \n",
            "                                                                 \n",
            " max_pooling2d (MaxPooling2D  (None, 12, 12, 128)      0         \n",
            " )                                                               \n",
            "                                                                 \n",
            " dropout (Dropout)           (None, 12, 12, 128)       0         \n",
            "                                                                 \n",
            " flatten (Flatten)           (None, 18432)             0         \n",
            "                                                                 \n",
            " dense (Dense)               (None, 1024)              18875392  \n",
            "                                                                 \n",
            " dropout_1 (Dropout)         (None, 1024)              0         \n",
            "                                                                 \n",
            " dense_1 (Dense)             (None, 1024)              1049600   \n",
            "                                                                 \n",
            " dropout_2 (Dropout)         (None, 1024)              0         \n",
            "                                                                 \n",
            " dense_2 (Dense)             (None, 10)                10250     \n",
            "                                                                 \n",
            "=================================================================\n",
            "Total params: 20,009,738\n",
            "Trainable params: 20,009,738\n",
            "Non-trainable params: 0\n",
            "_________________________________________________________________\n"
          ]
        },
        {
          "output_type": "stream",
          "name": "stderr",
          "text": [
            "/usr/local/lib/python3.8/dist-packages/keras/optimizers/optimizer_v2/rmsprop.py:135: UserWarning: The `lr` argument is deprecated, use `learning_rate` instead.\n",
            "  super(RMSprop, self).__init__(name, **kwargs)\n"
          ]
        }
      ]
    },
    {
      "cell_type": "code",
      "source": [
        "history = model.fit(X_train[:5000],\n",
        "                    y_train[:5000],\n",
        "                    epochs=5,\n",
        "                    batch_size=64,\n",
        "                    validation_data=(X_test, y_test))"
      ],
      "metadata": {
        "colab": {
          "base_uri": "https://localhost:8080/"
        },
        "id": "Cuh_yTnQePBX",
        "outputId": "aa7adc91-b742-41da-dbc0-52634c3a8f4e"
      },
      "execution_count": 8,
      "outputs": [
        {
          "output_type": "stream",
          "name": "stdout",
          "text": [
            "Epoch 1/5\n",
            "79/79 [==============================] - 79s 979ms/step - loss: 34.5621 - accuracy: 0.3238 - val_loss: 0.6547 - val_accuracy: 0.7674\n",
            "Epoch 2/5\n",
            "79/79 [==============================] - 76s 967ms/step - loss: 0.5014 - accuracy: 0.8642 - val_loss: 0.5454 - val_accuracy: 0.8834\n",
            "Epoch 3/5\n",
            "79/79 [==============================] - 76s 968ms/step - loss: 0.4111 - accuracy: 0.8988 - val_loss: 0.1855 - val_accuracy: 0.9458\n",
            "Epoch 4/5\n",
            "79/79 [==============================] - 75s 954ms/step - loss: 0.3084 - accuracy: 0.9254 - val_loss: 1.0617 - val_accuracy: 0.8287\n",
            "Epoch 5/5\n",
            "79/79 [==============================] - 75s 957ms/step - loss: 0.2893 - accuracy: 0.9336 - val_loss: 0.2828 - val_accuracy: 0.9431\n"
          ]
        }
      ]
    },
    {
      "cell_type": "code",
      "source": [
        "model.save('educated.h5')"
      ],
      "metadata": {
        "id": "G7LgHkoSz9wQ"
      },
      "execution_count": null,
      "outputs": []
    },
    {
      "cell_type": "code",
      "source": [
        "filehistory = tf.keras.models.load_model('educated.h5')"
      ],
      "metadata": {
        "id": "7VINho233VYi"
      },
      "execution_count": null,
      "outputs": []
    },
    {
      "cell_type": "code",
      "source": [
        "x = range(5)\n",
        "\n",
        "plt.grid(True)\n",
        "\n",
        "plt.plot(x, \n",
        "         history.history['accuracy'], \n",
        "         'bo-', \n",
        "         label='Train accuracy')\n",
        "\n",
        "plt.plot(x, \n",
        "         history.history['val_accuracy'],\n",
        "         'ro-',\n",
        "         label='Validation accuracy')\n",
        "\n",
        "plt.xlabel('Epoch')\n",
        "plt.ylabel('Accuracy')\n",
        "\n",
        "plt.legend(loc='lower right')"
      ],
      "metadata": {
        "colab": {
          "base_uri": "https://localhost:8080/",
          "height": 296
        },
        "id": "qz4Xoxo2kLsL",
        "outputId": "eb0dd2fc-dbc8-4e3b-c6ec-998be14aabf0"
      },
      "execution_count": 9,
      "outputs": [
        {
          "output_type": "execute_result",
          "data": {
            "text/plain": [
              "<matplotlib.legend.Legend at 0x7f97844a6b50>"
            ]
          },
          "metadata": {},
          "execution_count": 9
        },
        {
          "output_type": "display_data",
          "data": {
            "text/plain": [
              "<Figure size 432x288 with 1 Axes>"
            ],
            "image/png": "[encoded data removed]"
          },
          "metadata": {
            "needs_background": "light"
          }
        }
      ]
    },
    {
      "cell_type": "code",
      "source": [
        "plt.grid(True)\n",
        "\n",
        "plt.plot(x, \n",
        "         history.history['loss'], \n",
        "         'bo-', \n",
        "         label='Train losses')\n",
        "\n",
        "plt.plot(x, \n",
        "         history.history['val_loss'],\n",
        "         'ro-',\n",
        "         label='Validation losses')\n",
        "\n",
        "plt.xlabel('Epoch')\n",
        "plt.ylabel('Loss')\n",
        "\n",
        "plt.legend(loc='upper right')"
      ],
      "metadata": {
        "colab": {
          "base_uri": "https://localhost:8080/",
          "height": 296
        },
        "id": "9GrFcciYlulf",
        "outputId": "80376c36-1ef9-43ec-d9e5-6a1e4ad9b97f"
      },
      "execution_count": 10,
      "outputs": [
        {
          "output_type": "execute_result",
          "data": {
            "text/plain": [
              "<matplotlib.legend.Legend at 0x7f9788c82dc0>"
            ]
          },
          "metadata": {},
          "execution_count": 10
        },
        {
          "output_type": "display_data",
          "data": {
            "text/plain": [
              "<Figure size 432x288 with 1 Axes>"
            ],
            "image/png": "[encoded data removed]"
          },
          "metadata": {
            "needs_background": "light"
          }
        }
      ]
    },
    {
      "cell_type": "code",
      "source": [
        "score = model.evaluate(X_test, y_test)\n",
        "print('Test loss:', score[0])\n",
        "print('Test accuracy:', score[1])"
      ],
      "metadata": {
        "colab": {
          "base_uri": "https://localhost:8080/"
        },
        "id": "CFam43OZl0Tt",
        "outputId": "9b5e9f7e-7c0a-4cdd-f7d8-ce52fdd78a07"
      },
      "execution_count": 11,
      "outputs": [
        {
          "output_type": "stream",
          "name": "stdout",
          "text": [
            "313/313 [==============================] - 29s 92ms/step - loss: 0.2828 - accuracy: 0.9431\n",
            "Test loss: 0.28282588720321655\n",
            "Test accuracy: 0.9430999755859375\n"
          ]
        }
      ]
    },
    {
      "cell_type": "code",
      "source": [
        "import keras\n",
        "import numpy as np\n",
        "\n",
        "def cnn_digits_predict(model, image_file):\n",
        "   image_size = 28\n",
        "   img = keras.utils.load_img(image_file, \n",
        "target_size=(image_size, image_size), color_mode='grayscale')\n",
        "   img_arr = np.expand_dims(img, axis=0)\n",
        "   #img_arr = 1 - img_arr/255.0\n",
        "   img_arr = img_arr.reshape((1, 28, 28, 1))\n",
        "\n",
        "   result = model.predict([img_arr])\n",
        "   return result[0]"
      ],
      "metadata": {
        "id": "VRw1sCdcmFXh"
      },
      "execution_count": 12,
      "outputs": []
    },
    {
      "cell_type": "code",
      "source": [
        "print(cnn_digits_predict(model, 'test0.png'))\n",
        "print(np.argmax(cnn_digits_predict(model, 'test0.png')))\n",
        "\n",
        "print('\\n')\n",
        "\n",
        "print(cnn_digits_predict(model, 'test2.png'))\n",
        "print(np.argmax(cnn_digits_predict(model, 'test2.png')))\n",
        "\n",
        "print('\\n')\n",
        "\n",
        "print(cnn_digits_predict(model, 'test7.png'))\n",
        "print(np.argmax(cnn_digits_predict(model, 'test7.png')))"
      ],
      "metadata": {
        "colab": {
          "base_uri": "https://localhost:8080/"
        },
        "id": "ZLx5PVjBmTVq",
        "outputId": "21242002-7f8b-436a-8bb3-fdacdd6e55f0"
      },
      "execution_count": 13,
      "outputs": [
        {
          "output_type": "stream",
          "name": "stdout",
          "text": [
            "1/1 [==============================] - 0s 136ms/step\n",
            "[1. 0. 0. 0. 0. 0. 0. 0. 0. 0.]\n",
            "1/1 [==============================] - 0s 36ms/step\n",
            "0\n",
            "\n",
            "\n",
            "1/1 [==============================] - 0s 30ms/step\n",
            "[0. 0. 1. 0. 0. 0. 0. 0. 0. 0.]\n",
            "1/1 [==============================] - 0s 38ms/step\n",
            "2\n",
            "\n",
            "\n",
            "1/1 [==============================] - 0s 28ms/step\n",
            "[0. 0. 1. 0. 0. 0. 0. 0. 0. 0.]\n",
            "1/1 [==============================] - 0s 27ms/step\n",
            "2\n"
          ]
        }
      ]
    }
  ]
}